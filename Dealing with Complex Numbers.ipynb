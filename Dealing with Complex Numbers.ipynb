{
 "cells": [
  {
   "cell_type": "code",
   "execution_count": null,
   "id": "0707cf6b",
   "metadata": {},
   "outputs": [],
   "source": [
    "import math\n",
    "\n",
    "class Complex(object):\n",
    "    def __init__(self, real, imaginary):\n",
    "        self.real = real\n",
    "        self.imaginary = imaginary\n",
    "        \n",
    "    def __add__(self, no):\n",
    "        return Complex(self.real + no.real , self.imaginary + no.imaginary)\n",
    "        \n",
    "    def __sub__(self, no):\n",
    "        return Complex(self.real - no.real , self.imaginary - no.imaginary)       \n",
    "        \n",
    "    def __mul__(self, no):\n",
    "        prod = complex(self.real , self.imaginary)*complex(no.real , no.imaginary)\n",
    "        return Complex(prod.real , prod.imag)\n",
    "\n",
    "    def __truediv__(self, no):\n",
    "        div = complex(self.real , self.imaginary)/complex(no.real , no.imaginary)\n",
    "        return Complex(div.real , div.imag)\n",
    "\n",
    "\n",
    "    def mod(self):\n",
    "        m = math.sqrt(self.real**2 + self.imaginary**2)\n",
    "        return Complex(m,0)\n",
    "\n",
    "    def __str__(self):\n",
    "        if self.imaginary == 0:\n",
    "            result = \"%.2f+0.00i\" % (self.real)\n",
    "        elif self.real == 0:\n",
    "            if self.imaginary >= 0:\n",
    "                result = \"0.00+%.2fi\" % (self.imaginary)\n",
    "            else:\n",
    "                result = \"0.00-%.2fi\" % (abs(self.imaginary))\n",
    "        elif self.imaginary > 0:\n",
    "            result = \"%.2f+%.2fi\" % (self.real, self.imaginary)\n",
    "        else:\n",
    "            result = \"%.2f-%.2fi\" % (self.real, abs(self.imaginary))\n",
    "        return result\n",
    "if __name__ == '__main__':\n",
    "    c = map(float, input().split())\n",
    "    d = map(float, input().split())\n",
    "    x = Complex(*c)\n",
    "    y = Complex(*d)\n",
    "    print(*map(str, [x+y, x-y, x*y, x/y, x.mod(), y.mod()]), sep='\\n')"
   ]
  }
 ],
 "metadata": {
  "kernelspec": {
   "display_name": "Python 3 (ipykernel)",
   "language": "python",
   "name": "python3"
  },
  "language_info": {
   "codemirror_mode": {
    "name": "ipython",
    "version": 3
   },
   "file_extension": ".py",
   "mimetype": "text/x-python",
   "name": "python",
   "nbconvert_exporter": "python",
   "pygments_lexer": "ipython3",
   "version": "3.10.9"
  }
 },
 "nbformat": 4,
 "nbformat_minor": 5
}
